{
  "nbformat": 4,
  "nbformat_minor": 0,
  "metadata": {
    "colab": {
      "provenance": []
    },
    "kernelspec": {
      "name": "python3",
      "display_name": "Python 3"
    },
    "language_info": {
      "name": "python"
    }
  },
  "cells": [
    {
      "cell_type": "markdown",
      "source": [
        "**PSO FUNCTION**"
      ],
      "metadata": {
        "id": "4_l4Eg9otwOP"
      }
    },
    {
      "cell_type": "code",
      "source": [
        "import math\n",
        "import random\n",
        "\n",
        "def flatten(lst):\n",
        "    flat_list = []\n",
        "    for item in lst:\n",
        "        if isinstance(item, list):\n",
        "            flat_list.extend(flatten(item))\n",
        "        else:\n",
        "            flat_list.append(item)\n",
        "    return flat_list\n",
        "\n",
        "def unflatten(flat_list, structure):\n",
        "    flat_iter = iter(flat_list)\n",
        "    def helper(struct):\n",
        "        result = []\n",
        "        for elem in struct:\n",
        "            if isinstance(elem, list):\n",
        "                result.append(helper(elem))\n",
        "            else:\n",
        "                result.append(next(flat_iter))\n",
        "        return result\n",
        "    return helper(structure)\n",
        "\n",
        "def pso_function(parameter_values, bounds, n_particles, m_iterations, inertia, cognitive, social):\n",
        "\n",
        "    print(\"PSO Algorithm Started\")\n",
        "\n",
        "    num_particles = n_particles\n",
        "    max_iterations = m_iterations\n",
        "    w = inertia  # inertia weight\n",
        "    c1 = cognitive  # cognitive constant\n",
        "    c2 = social  # social constant\n",
        "\n",
        "    para = flatten(parameter_values)\n",
        "    len_para = len(para)\n",
        "    update_bounds = flatten(bounds)\n",
        "\n",
        "\n",
        "    particles = []\n",
        "    velocities = []\n",
        "    pbest = []\n",
        "    gbest = None\n",
        "    gbest_value = -float('inf')\n",
        "    iteration_best_values = []\n",
        "\n",
        "    for _ in range(num_particles):\n",
        "        particle = [random.uniform(bounds[i][0], bounds[i][1]) for i in range(len_para)]\n",
        "        temp_con = unflatten(particle, parameter_values)\n",
        "        while (conditions(temp_con) == False):\n",
        "            particle = [random.uniform(bounds[i][0], bounds[i][1]) for i in range(len_para)]\n",
        "            temp_con = unflatten(particle, parameter_values)\n",
        "        particles.append(particle)\n",
        "        velocities.append([0] * (len_para))\n",
        "        pbest.append(particle[:])\n",
        "\n",
        "    # PSO loop\n",
        "    for iter in range(max_iterations):\n",
        "        iteration_best_value = -float('inf')\n",
        "        for i in range(num_particles):\n",
        "            current_position = particles[i]\n",
        "            temp = unflatten(current_position, parameter_values)\n",
        "            fitness = objective_function(temp)\n",
        "\n",
        "            # Update personal best\n",
        "            temp = unflatten(pbest[i], parameter_values)\n",
        "            if fitness > objective_function(temp):\n",
        "                pbest[i] = current_position[:]\n",
        "\n",
        "            # Update global best\n",
        "            if fitness > gbest_value:\n",
        "                gbest = current_position[:]\n",
        "                gbest_value = fitness\n",
        "\n",
        "            # Update iteration best value\n",
        "            if fitness > iteration_best_value:\n",
        "                iteration_best_value = fitness\n",
        "\n",
        "        # Record the best value found in this iteration\n",
        "        iteration_best_values.append(iteration_best_value)\n",
        "\n",
        "        # Update velocities and particles\n",
        "        for i in range(num_particles):\n",
        "            for j in range(len_para):\n",
        "                new_velocity = (w * velocities[i][j] +\n",
        "                                    c1 * random.random() * (pbest[i][j] - particles[i][j]) +\n",
        "                                    c2 * random.random() * (gbest[j] - particles[i][j]))\n",
        "                new_position = particles[i][j] + new_velocity\n",
        "\n",
        "                new_position = max(min(new_position, update_bounds[j][1]), update_bounds[j][0])\n",
        "\n",
        "                # Update only if the new position satisfies the condition\n",
        "                particles[i][j] = new_position\n",
        "                velocities[i][j] = new_velocity\n",
        "\n",
        "                temp_con = unflatten(particles[i], parameter_values)\n",
        "                if not conditions(temp_con):\n",
        "                    particles[i][j] -= new_velocity\n",
        "                    velocities[i][j] = 0\n",
        "        #Printing\n",
        "        if (iter % 100 == 0) or iter == (max_iterations-1):\n",
        "                print(f\"Iteration {iter}: Value = {iteration_best_values[iter]}\")\n",
        "\n",
        "    return iteration_best_values"
      ],
      "metadata": {
        "id": "dx-5_nxydh5P"
      },
      "execution_count": null,
      "outputs": []
    },
    {
      "cell_type": "markdown",
      "source": [
        "**MAIN PROGRAM**"
      ],
      "metadata": {
        "id": "wHkwTARzt1ng"
      }
    },
    {
      "cell_type": "markdown",
      "source": [
        "Constant Variables Initialization"
      ],
      "metadata": {
        "id": "49g5LOj_ZoRZ"
      }
    },
    {
      "cell_type": "code",
      "source": [
        "import numpy as np\n",
        "import random\n",
        "import math\n",
        "import matplotlib.pyplot as plt"
      ],
      "metadata": {
        "id": "4oZfuRNLL56w"
      },
      "execution_count": null,
      "outputs": []
    },
    {
      "cell_type": "code",
      "source": [
        "def up_get_ini(alpha_K0, alpha_K_dash0, P_s0, W_0, h_as, h_ak, sigma_k, h_ac, h_sc, sigma_c, K_dash, sigma_k_dash, h_ak_dash, h_sk, h_ik, h_si, h_sk_dash, h_ik_dash, varphi_r, varphi_t):\n",
        "\n",
        "    SINRKK = 0.0\n",
        "    SINRKK_dash = 0.0\n",
        "    SINRCC = 0.0\n",
        "\n",
        "    k = 0\n",
        "    k_dash = 0\n",
        "\n",
        "    SINRKK = (alpha_K0 * P_s0 * (np.abs(h_sk[k][0] + np.dot(np.dot(h_ik[k],varphi_r),h_si).item()))**2) / (P_s0 * (np.abs(h_sk[k][0] + np.dot(np.dot(h_ik[k],varphi_r),h_si).item()))**2 * (alpha_K_dash0) + (np.abs(np.dot(W_0,h_ak[k])))**2 + sigma_k**2)\n",
        "\n",
        "    SINRCC = (np.abs(np.dot(W_0,h_ac)))**2 / (P_s0 * np.abs(h_sc)**2 + sigma_c**2)\n",
        "\n",
        "    SINRKK_dash = (alpha_K_dash0 * P_s0 * (np.abs(h_sk_dash[k_dash][0] + np.dot(np.dot(h_ik_dash[k_dash],varphi_t),h_si).item()))**2) / ((np.abs(np.dot(W_0,h_ak_dash[k_dash])))**2 + sigma_k_dash**2)\n",
        "\n",
        "    rho = 0.01\n",
        "    P_I =  np.abs(np.dot(W_0,h_as))**2 + (rho**2 * P_s0)\n",
        "\n",
        "    return SINRCC, SINRKK, SINRKK_dash, P_I"
      ],
      "metadata": {
        "id": "xNuGroOBhSIX"
      },
      "execution_count": null,
      "outputs": []
    },
    {
      "cell_type": "code",
      "source": [
        "def generate_channel(N, K, path_loss):\n",
        "\n",
        "    h = (1/np.sqrt(2)) * (np.random.randn(N, K) + 1j * np.random.randn(N, K))\n",
        "    h_normalized = h / np.linalg.norm(h, axis=0)\n",
        "    h = path_loss * h_normalized\n",
        "\n",
        "    return h"
      ],
      "metadata": {
        "id": "tbzh-xnnhUqm"
      },
      "execution_count": null,
      "outputs": []
    },
    {
      "cell_type": "code",
      "source": [
        "def up_GET_dist_pru(P_AP, P_DD, P_CC, P_KK, P_IRS, P_KK_dash, noise):\n",
        "\n",
        "\n",
        "    pathloss_direct = lambda d: 32.6 + 36.7 * math.log10(d)\n",
        "\n",
        "    relative_user_loc = [x1 - x2 for x1, x2 in zip(P_AP, P_DD)]\n",
        "    d_as = math.sqrt(relative_user_loc[0]**2 + relative_user_loc[1]**2)\n",
        "    PL_as = pathloss_direct(d_as)\n",
        "    PL_as = math.sqrt(10**((- noise - PL_as) / 10))\n",
        "\n",
        "    relative_user_loc = [x - y for x, y in zip(P_AP, P_CC)]\n",
        "    d_ac = math.sqrt(relative_user_loc[0]**2 + relative_user_loc[1]**2)\n",
        "    PL_ac = pathloss_direct(d_ac)\n",
        "    PL_ac = math.sqrt(10**((- noise - PL_ac) / 10))\n",
        "\n",
        "    relative_user_loc = [x - y for x, y in zip(P_AP, P_KK)]\n",
        "    d_ak = math.sqrt(relative_user_loc[0]**2 + relative_user_loc[1]**2)\n",
        "    PL_ak = pathloss_direct(d_ak)\n",
        "    PL_ak = math.sqrt(10**((- noise - PL_ak) / 10))\n",
        "\n",
        "    relative_user_loc = [x - y for x, y in zip(P_DD, P_KK)]\n",
        "    d_sk = math.sqrt(relative_user_loc[0]**2 + relative_user_loc[1]**2)\n",
        "    PL_sk = pathloss_direct(d_sk)\n",
        "    PL_sk = math.sqrt(10**((- noise - PL_sk) / 10))\n",
        "\n",
        "    relative_user_loc = [x - y for x, y in zip(P_IRS, P_KK)]\n",
        "    d_ik = math.sqrt(relative_user_loc[0]**2 + relative_user_loc[1]**2)\n",
        "    PL_ik = pathloss_direct(d_ik)\n",
        "    PL_ik = math.sqrt(10**((- noise - PL_ik) / 10))\n",
        "\n",
        "    relative_user_loc = [x - y for x, y in zip(P_DD, P_IRS)]\n",
        "    d_si = math.sqrt(relative_user_loc[0]**2 + relative_user_loc[1]**2)\n",
        "    PL_si = pathloss_direct(d_si)\n",
        "    PL_si = math.sqrt(10**((- noise - PL_si) / 10))\n",
        "\n",
        "    relative_user_loc = [x - y for x, y in zip(P_DD, P_CC)]\n",
        "    d_sc = math.sqrt(relative_user_loc[0]**2 + relative_user_loc[1]**2)\n",
        "    PL_sc = pathloss_direct(d_sc)\n",
        "    PL_sc = math.sqrt(10**((- noise - PL_sc) / 10))\n",
        "\n",
        "    relative_user_loc = [x - y for x, y in zip(P_AP, P_KK_dash)]\n",
        "    d_ak_dash = math.sqrt(relative_user_loc[0]**2 + relative_user_loc[1]**2)\n",
        "    PL_ak_dash = pathloss_direct(d_ak_dash)\n",
        "    PL_ak_dash = math.sqrt(10**((- noise - PL_ak_dash) / 10))\n",
        "\n",
        "    relative_user_loc = [x - y for x, y in zip(P_DD, P_KK_dash)]\n",
        "    d_sk_dash = math.sqrt(relative_user_loc[0]**2 + relative_user_loc[1]**2)\n",
        "    PL_sk_dash = pathloss_direct(d_sk_dash)\n",
        "    PL_sk_dash = math.sqrt(10**((- noise - PL_sk_dash) / 10))\n",
        "\n",
        "    relative_user_loc = [x - y for x, y in zip(P_IRS, P_KK_dash)]\n",
        "    d_ik_dash = math.sqrt(relative_user_loc[0]**2 + relative_user_loc[1]**2)\n",
        "    PL_ik_dash = pathloss_direct(d_ik_dash)\n",
        "    PL_ik_dash = math.sqrt(10**((- noise - PL_ik_dash) / 10))\n",
        "\n",
        "    return (PL_as, PL_ac, PL_ak, PL_sk, PL_ik, PL_si, PL_sc, PL_ak_dash, PL_sk_dash, PL_ik_dash)"
      ],
      "metadata": {
        "id": "5XPNv3YkhWV6"
      },
      "execution_count": null,
      "outputs": []
    },
    {
      "cell_type": "code",
      "source": [
        "M = 2  # number of antennas on AP\n",
        "N = 8  # number IRS elements\n",
        "K = 1  # no.of user at receiver side\n",
        "K_dash = 1  # no.of user at transmission side\n",
        "\n",
        "\n",
        "P_AP = [0, 0]  # in meters\n",
        "P_DD = [150, -10]\n",
        "P_CC = [10, -160]\n",
        "P_IRS = [170, -110]\n",
        "P_KK = [100, -150]\n",
        "P_KK_dash = [250, -70]\n",
        "noise = -120\n",
        "\n",
        "PL_as, PL_ac, PL_ak, PL_sk, PL_ik, PL_si, PL_sc, PL_ak_dash, PL_sk_dash, PL_ik_dash = up_GET_dist_pru(P_AP, P_DD, P_CC, P_KK, P_IRS, P_KK_dash, noise)\n",
        "\n",
        "h_as= generate_channel(M,1,PL_as);\n",
        "h_ac= generate_channel(M,1,PL_ac);\n",
        "h_ak= generate_channel(M,K,PL_ak);\n",
        "h_ak = h_ak.transpose() #For own Easy\n",
        "h_sk = generate_channel(1,K,PL_sk);\n",
        "h_sk = np.conjugate(h_sk.transpose())\n",
        "\n",
        "h_ik= generate_channel(N,K,PL_ik);\n",
        "h_ik = np.conjugate(h_ik.transpose())\n",
        "\n",
        "h_si= generate_channel(1,N,PL_si);\n",
        "h_si = h_si.transpose()\n",
        "\n",
        "h_sc= generate_channel(1,1,PL_sc);\n",
        "h_ak_dash= generate_channel(M,K_dash,PL_ak_dash);\n",
        "h_ak_dash = h_ak_dash.transpose() #For own Easy\n",
        "h_sk_dash= generate_channel(1,K_dash,PL_sk_dash);\n",
        "h_sk_dash = np.conjugate(h_sk_dash.transpose())\n",
        "h_ik_dash= generate_channel(N,K_dash,PL_ik_dash);\n",
        "h_ik_dash = np.conjugate(h_ik_dash.transpose())\n",
        "\n",
        "\n",
        "sigma_c = 1\n",
        "sigma_k = 1\n",
        "sigma_k_dash = 1"
      ],
      "metadata": {
        "id": "y1NXYi0fhX7-"
      },
      "execution_count": null,
      "outputs": []
    },
    {
      "cell_type": "markdown",
      "source": [
        "**CONSTRAINTS CONDITIONS CHECK FUNCTION**"
      ],
      "metadata": {
        "id": "7TDcx6-uZMv8"
      }
    },
    {
      "cell_type": "code",
      "source": [
        "def conditions(para):\n",
        "    W_0_real, W_0_imaginary, P_s0_list, alpha_K0_list, zeta_r, theta_r, theta_t = para\n",
        "    P_s0 = P_s0_list[0]\n",
        "    alpha_K0 = alpha_K0_list[0]\n",
        "    alpha_K_dash0 = 1-alpha_K0\n",
        "    zeta_t = [1 - z for z in zeta_r]\n",
        "\n",
        "    W_0 = np.array([real + 1j * imaginary for real, imaginary in zip(W_0_real, W_0_imaginary)])\n",
        "\n",
        "    varphi_r_value = [math.sqrt(zeta) * math.exp(theta) for zeta, theta in zip(zeta_r, theta_r)]\n",
        "    varphi_r = np.zeros((N, N), dtype=complex)\n",
        "    np.fill_diagonal(varphi_r, varphi_r_value)\n",
        "\n",
        "    varphi_t_value = [math.sqrt(zeta) * math.exp(theta) for zeta, theta in zip(zeta_t, theta_t)]\n",
        "    varphi_t = np.zeros((N, N), dtype=complex)\n",
        "    np.fill_diagonal(varphi_t, varphi_t_value)\n",
        "\n",
        "    SINRCC, SINRKK, SINRKK_dash, P_I = up_get_ini(alpha_K0, alpha_K_dash0, P_s0, W_0, h_as, h_ak, sigma_k, h_ac, h_sc, sigma_c, K_dash, sigma_k_dash, h_ak_dash, h_sk, h_ik, h_si, h_sk_dash, h_ik_dash, varphi_r, varphi_t)\n",
        "    rateSINRCC = math.log2(SINRCC.item() + 1)\n",
        "    rateSINRKK = math.log2(SINRKK.item() + 1)\n",
        "    rateSINRKK_dash = math.log2(SINRKK_dash.item() + 1)\n",
        "\n",
        "    R_min_k=0.05\n",
        "    R_min_k_dash=R_min_k\n",
        "    R_min_c=0.05\n",
        "    P_max = 10**(10/10)\n",
        "    P_I_min = 10**(9/10)\n",
        "    P_I_max = 2*P_I_min\n",
        "    eta = 0.01\n",
        "\n",
        "    if P_I < P_I_min:\n",
        "      P_sh = 0\n",
        "    elif P_I >= P_I_min and P_I <= P_I_max:\n",
        "      P_sh = eta * P_I\n",
        "    elif P_I > P_I_max:\n",
        "      P_sh = eta * P_I_max\n",
        "\n",
        "    condition_1 = (rateSINRKK >= R_min_k) and (rateSINRKK_dash >= R_min_k_dash)\n",
        "    condition_3 = rateSINRCC >= R_min_c\n",
        "    condition_4 = all(np.abs(w)**2 <= P_max for w in W_0)\n",
        "    condition_5 = P_s0 <= P_sh\n",
        "    condition_6 = P_I >= P_I_min\n",
        "\n",
        "    if (condition_1 and condition_3 and condition_4 and condition_5 and condition_6):\n",
        "        return True\n",
        "    return False"
      ],
      "metadata": {
        "id": "JRGbA2Gwhcx_"
      },
      "execution_count": null,
      "outputs": []
    },
    {
      "cell_type": "markdown",
      "source": [
        "**RATE CALCULATION METHOD**"
      ],
      "metadata": {
        "id": "OpR7kAm4ZN6L"
      }
    },
    {
      "cell_type": "code",
      "source": [
        "def objective_function(para):\n",
        "    W_0_real, W_0_imaginary, P_s0_list, alpha_K0_list, zeta_r, theta_r, theta_t = para\n",
        "    P_s0 = P_s0_list[0]\n",
        "    alpha_K0 = alpha_K0_list[0]\n",
        "    alpha_K_dash0 = 1-alpha_K0\n",
        "    zeta_t = [1 - z for z in zeta_r]\n",
        "\n",
        "    W_0 = np.array([real + 1j * imaginary for real, imaginary in zip(W_0_real, W_0_imaginary)])\n",
        "\n",
        "    varphi_r_value = [math.sqrt(zeta) * math.exp(theta) for zeta, theta in zip(zeta_r, theta_r)]\n",
        "    varphi_r = np.zeros((N, N), dtype=complex)\n",
        "    np.fill_diagonal(varphi_r, varphi_r_value)\n",
        "\n",
        "    varphi_t_value = [math.sqrt(zeta) * math.exp(theta) for zeta, theta in zip(zeta_t, theta_t)]\n",
        "    varphi_t = np.zeros((N, N), dtype=complex)\n",
        "    np.fill_diagonal(varphi_t, varphi_t_value)\n",
        "\n",
        "    SINRCC, SINRKK, SINRKK_dash, P_I = up_get_ini(alpha_K0, alpha_K_dash0, P_s0, W_0, h_as, h_ak, sigma_k, h_ac, h_sc, sigma_c, K_dash, sigma_k_dash, h_ak_dash, h_sk, h_ik, h_si, h_sk_dash, h_ik_dash, varphi_r, varphi_t)\n",
        "    rateSINRCC = math.log2(SINRCC.item() + 1)\n",
        "    rateSINRKK = math.log2(SINRKK.item() + 1)\n",
        "    rateSINRKK_dash = math.log2(SINRKK_dash.item() + 1)\n",
        "\n",
        "    return rateSINRKK + rateSINRKK_dash"
      ],
      "metadata": {
        "id": "9SEK6x4khdds"
      },
      "execution_count": null,
      "outputs": []
    },
    {
      "cell_type": "markdown",
      "source": [
        "**PARAMETERS TO BE OPTIMIZED LIST**"
      ],
      "metadata": {
        "id": "vcyFMeOXYVFq"
      }
    },
    {
      "cell_type": "code",
      "source": [
        "W_0_real = [random.uniform(0, 1) for _ in range(M)]\n",
        "W_0_imaginary = [random.uniform(0, 1) for _ in range(M)]\n",
        "P_s0 = [random.uniform(0, 1)]\n",
        "alpha_K0 = [random.uniform(0, 1)]\n",
        "zeta_r = [random.uniform(0, 1) for _ in range(N)]\n",
        "theta_r = [random.uniform(0, 2*math.pi) for _ in range(N)]\n",
        "theta_t = [random.uniform(0, 2*math.pi) for _ in range(N)]\n",
        "\n",
        "par = W_0_real, W_0_imaginary, P_s0, alpha_K0, zeta_r, theta_r, theta_t"
      ],
      "metadata": {
        "id": "NqQnRL6Lh7Dh"
      },
      "execution_count": null,
      "outputs": []
    },
    {
      "cell_type": "markdown",
      "source": [
        "**BOUNDS**"
      ],
      "metadata": {
        "id": "vzGmAx03YgNf"
      }
    },
    {
      "cell_type": "markdown",
      "source": [
        "For bounds, you have to create a list for the range of all variables of each optimizable parameter lists.\n",
        "\n",
        "In this case, M = 2, N = 8\n",
        "\n",
        "So there are *w_real* = **1x2**, *w_imaginary* = **1x2**, *p_s* = **1x1**, *alpha_k* = **1x1**, *zeta_r* = **1x8**, *theta_r* = **1x8**, *theta_t* = **1x8**\n",
        "\n",
        "Suppose you have a 2D optimizable parameter list say **X = 3x2** size.\n",
        "\n",
        "Then you have to mention **[lower limit, upper limit]*6**, (6 = the list length)\n",
        "\n",
        "**3 More Cases:**\n",
        "\n",
        "* In case there are no lower or upper range, you must use **[ -(float('inf')) , (float('inf')) ]**\n",
        "\n",
        "* In case there is only no lower limit, you must use **-(float('inf'))** as lower limit\n",
        "\n",
        "* In case there is only no upper limit, you must use **(float('inf'))** as upper limit"
      ],
      "metadata": {
        "id": "b6r7j9x8rDoX"
      }
    },
    {
      "cell_type": "code",
      "source": [
        "bounds = [(0,1)]*M + [(0,1)]*M +[(0,1)]*(1) + [(0,1)]*K + [(0,1)]*N + [(0,2*math.pi)]*N + [(0,2*math.pi)]*N"
      ],
      "metadata": {
        "id": "-7OTYFcDYi1Y"
      },
      "execution_count": null,
      "outputs": []
    },
    {
      "cell_type": "markdown",
      "source": [
        "**PSO FUNCTION PARAMETERS (YOU CAN CHANGE)**"
      ],
      "metadata": {
        "id": "DKFaQHxtYwYO"
      }
    },
    {
      "cell_type": "code",
      "source": [
        "n_particles = 30\n",
        "m_iterations = 200\n",
        "inertia= 0.5\n",
        "cognitive = 0.5\n",
        "social = 0.5\n",
        "number_of_simulations = 100 # Average of result of number of simulations (Any Integer Number)"
      ],
      "metadata": {
        "id": "wumCUgc-jBG1"
      },
      "execution_count": null,
      "outputs": []
    },
    {
      "cell_type": "markdown",
      "source": [
        "**RESULT**"
      ],
      "metadata": {
        "id": "Jbt18T3pY0C2"
      }
    },
    {
      "cell_type": "code",
      "source": [
        "average = []\n",
        "for i in range(number_of_simulations):\n",
        "    result = pso_function(par, bounds, n_particles, m_iterations, inertia, cognitive, social)\n",
        "    average.append(result)"
      ],
      "metadata": {
        "colab": {
          "base_uri": "https://localhost:8080/"
        },
        "id": "5o_FvxavhfEo",
        "outputId": "0e528ef9-ee6a-4baa-d836-ea7cb0dd991c"
      },
      "execution_count": null,
      "outputs": [
        {
          "output_type": "stream",
          "name": "stdout",
          "text": [
            "PSO Algorithm Started\n",
            "Iteration 0: Value = 20.224176725819532\n",
            "Iteration 100: Value = 23.650210979374666\n",
            "Iteration 199: Value = 23.650210979645106\n"
          ]
        }
      ]
    },
    {
      "cell_type": "markdown",
      "source": [
        "**AVERAGE OF SIMULATIONS RESULT**"
      ],
      "metadata": {
        "id": "W7AL0HrarYIz"
      }
    },
    {
      "cell_type": "code",
      "source": [
        "column_sums = [0] * len(average[0])\n",
        "\n",
        "for row in average:\n",
        "    for i in range(len(row)):\n",
        "        column_sums[i] += row[i]\n",
        "\n",
        "num_rows = len(average)\n",
        "column_averages = [sum_value / num_rows for sum_value in column_sums]"
      ],
      "metadata": {
        "id": "np604ja7rbPA"
      },
      "execution_count": null,
      "outputs": []
    },
    {
      "cell_type": "markdown",
      "source": [
        "**RESULT PLOTTING**"
      ],
      "metadata": {
        "id": "Yc4F9bSHY4gI"
      }
    },
    {
      "cell_type": "code",
      "source": [
        "plt.plot(np.arange(len(column_averages)), column_averages, label='Function Value')\n",
        "plt.title('PSO Optimization')\n",
        "plt.xlabel('Iteration')\n",
        "plt.ylabel('Sum Rate')\n",
        "plt.legend()\n",
        "plt.tight_layout()\n",
        "plt.show()"
      ],
      "metadata": {
        "colab": {
          "base_uri": "https://localhost:8080/",
          "height": 487
        },
        "id": "5iAfGLUYje4b",
        "outputId": "f3a1f2c4-415c-4b00-c98a-877945c4ee7b"
      },
      "execution_count": null,
      "outputs": [
        {
          "output_type": "display_data",
          "data": {
            "text/plain": [
              "<Figure size 640x480 with 1 Axes>"
            ],
            "image/png": "[encoded data removed]"
          },
          "metadata": {}
        }
      ]
    },
    {
      "cell_type": "code",
      "source": [],
      "metadata": {
        "id": "l8_kBf0jmcLC"
      },
      "execution_count": null,
      "outputs": []
    }
  ]
}